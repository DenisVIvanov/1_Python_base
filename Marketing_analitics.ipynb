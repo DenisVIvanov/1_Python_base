{
  "nbformat": 4,
  "nbformat_minor": 0,
  "metadata": {
    "kernelspec": {
      "display_name": "Python 3",
      "language": "python",
      "name": "python3"
    },
    "language_info": {
      "codemirror_mode": {
        "name": "ipython",
        "version": 3
      },
      "file_extension": ".py",
      "mimetype": "text/x-python",
      "name": "python",
      "nbconvert_exporter": "python",
      "pygments_lexer": "ipython3",
      "version": "3.7.4"
    },
    "colab": {
      "name": " Marketing analitics.ipynb",
      "provenance": []
    }
  },
  "cells": [
    {
      "cell_type": "markdown",
      "metadata": {
        "id": "CF5ldTQ4r6bP"
      },
      "source": [
        "## Marketing analitics"
      ]
    },
    {
      "cell_type": "markdown",
      "metadata": {
        "id": "jZG9RH0vsFUv"
      },
      "source": [
        "Исследование полей датасета\n",
        "\n",
        "Расчет традиционных маркетиговых метрик\n",
        "\n",
        "Классификация продаж по ценовым группам\n",
        "\n",
        "Характеристики продаж за последний месяц\n",
        "\n",
        "Причины ухода покупателей"
      ]
    },
    {
      "cell_type": "markdown",
      "metadata": {
        "id": "eCrXW6watKGM"
      },
      "source": [
        "### 1. Загрузка библиотек и данных"
      ]
    },
    {
      "cell_type": "code",
      "metadata": {
        "id": "81ta2GwZ2zyz"
      },
      "source": [
        "import pandas as pd\n",
        "import numpy as np\n",
        "\n",
        "from matplotlib import pyplot as plt\n",
        "import seaborn as sns"
      ],
      "execution_count": null,
      "outputs": []
    },
    {
      "cell_type": "code",
      "metadata": {
        "id": "rhAW9ixqpNqh"
      },
      "source": [
        "file ='Data Sample (AIC) для итоговой работы.xlsx'\n",
        "xl   = pd.ExcelFile(file)\n",
        "data = xl.parse('Online Retail')"
      ],
      "execution_count": null,
      "outputs": []
    },
    {
      "cell_type": "code",
      "metadata": {
        "id": "ltugUDwT2zy8"
      },
      "source": [
        "data = data.iloc[:,[4,6,7,0,1,3,5]]\n",
        "data.head(1)"
      ],
      "execution_count": null,
      "outputs": []
    },
    {
      "cell_type": "code",
      "metadata": {
        "id": "F16hunRn2zy8"
      },
      "source": [
        "data['InvSum'] = data.Quantity * data.UnitPrice\n",
        "data.head(1)"
      ],
      "execution_count": null,
      "outputs": []
    },
    {
      "cell_type": "markdown",
      "metadata": {
        "id": "kuSMme8vtWed"
      },
      "source": [
        "### 2. Исследование полей датасета"
      ]
    },
    {
      "cell_type": "markdown",
      "metadata": {
        "id": "oa8gG40O2zy9"
      },
      "source": [
        "#### 2.1. InvoiceDate\n"
      ]
    },
    {
      "cell_type": "code",
      "metadata": {
        "id": "Kv0olfkf2zy-"
      },
      "source": [
        "data.InvoiceDate.describe()"
      ],
      "execution_count": null,
      "outputs": []
    },
    {
      "cell_type": "code",
      "metadata": {
        "id": "hgNGx5mZ2zy_"
      },
      "source": [
        "data['year_month']=data.InvoiceDate.apply(lambda x: str(x)[:7])\n",
        "data['year'] =pd.to_datetime(data.InvoiceDate).dt.year\n",
        "data['month']=pd.to_datetime(data.InvoiceDate).dt.month\n",
        "data['week'] =pd.to_datetime(data.InvoiceDate).dt.week\n",
        "data.head()"
      ],
      "execution_count": null,
      "outputs": []
    },
    {
      "cell_type": "code",
      "metadata": {
        "id": "Po4u_VlP2zzA"
      },
      "source": [
        "data[data.year_month == '2011-12'].week.value_counts()"
      ],
      "execution_count": null,
      "outputs": []
    },
    {
      "cell_type": "code",
      "metadata": {
        "id": "pAqs98rk2zzA"
      },
      "source": [
        "data = data.iloc[:,[0,8,9,10,11,1,2,3,4,5,6,7]]\n",
        "data.head(1)"
      ],
      "execution_count": null,
      "outputs": []
    },
    {
      "cell_type": "markdown",
      "metadata": {
        "id": "8riL4PKf2zzB"
      },
      "source": [
        "Если анализ помесячно, то последний декабрь брать некорректно / половина месяца"
      ]
    },
    {
      "cell_type": "code",
      "metadata": {
        "id": "Mkcfbe4m2zzB"
      },
      "source": [
        "data = data[data.year_month != '2011-12']"
      ],
      "execution_count": null,
      "outputs": []
    },
    {
      "cell_type": "markdown",
      "metadata": {
        "id": "wVjn7wkc2zzC"
      },
      "source": [
        "#### 2.2. InvoiceNo"
      ]
    },
    {
      "cell_type": "code",
      "metadata": {
        "id": "Ci6A0Ko72zzC"
      },
      "source": [
        "data.InvoiceNo.value_counts().shape   # 14877\n",
        "data.InvoiceNo.value_counts().head()"
      ],
      "execution_count": null,
      "outputs": []
    },
    {
      "cell_type": "markdown",
      "metadata": {
        "id": "R2jTlvWk2zzD"
      },
      "source": [
        "По полю пропусков нет, одному заказу может соответствовать несколько позиций в чеке, все параметры Инвойса в целом для строки с одним инвойсом совпадают"
      ]
    },
    {
      "cell_type": "markdown",
      "metadata": {
        "id": "Nfxxos5x2zzD"
      },
      "source": [
        "#### 2.3. CustomerID"
      ]
    },
    {
      "cell_type": "code",
      "metadata": {
        "id": "u4xI1vDK2zzD"
      },
      "source": [
        "# Количество Покупателей без номера\n",
        "data[data.CustomerID.isna()].InvoiceNo.unique().shape\n",
        "# data.CustomerID.value_counts()"
      ],
      "execution_count": null,
      "outputs": []
    },
    {
      "cell_type": "code",
      "metadata": {
        "id": "z8NFEiPN2zzD"
      },
      "source": [
        "# Количество Покупателей с номером / идентифициророванных / зарегистрированных\n",
        "data.CustomerID.unique().shape"
      ],
      "execution_count": null,
      "outputs": []
    },
    {
      "cell_type": "markdown",
      "metadata": {
        "id": "y4pkg23n2zzE"
      },
      "source": [
        "Предположим, что Покупатели по которым не указан номер,  это покупатели не зарегистрированные на сайте, не заполнившие Анкету (о которых мы ничего не знаем). Отследить повторное посещение / покупку  незарегистрированного Покупателя невозможно \n",
        "\n",
        "Предположим\n",
        "Каждый (незарегистрированный  / без номера)  Покупатель в составе датасета  - уникален, то есть оформил 1 Инвойс\n",
        "Присвоим незарегистрированным покупателям (другие) уникальные номера и закрепим за полем CustomerID признак уникальности покупателя\n",
        "\n",
        "Дополним Датасет признаком факта регистрации Покупателя на сайте Customer_reg"
      ]
    },
    {
      "cell_type": "code",
      "metadata": {
        "id": "dpr2WWLh2zzE"
      },
      "source": [
        "data.loc[data.CustomerID.isna(),  'Customer_reg'] = 0\n",
        "data.loc[data.Customer_reg.isna(),'Customer_reg'] = 1\n",
        "\n",
        "lcd = dict(zip(\n",
        "                data[data.CustomerID.isna()].InvoiceNo.unique(), \n",
        "                list(range(0,1204))\n",
        "            ))\n",
        "\n",
        "data.loc[data.CustomerID.isna(),'CustomerID'] = data.loc[data.CustomerID.isna(),'InvoiceNo'].apply(lambda x: lcd[x])\n",
        "data.CustomerID = data.CustomerID.astype(int)\n",
        "data.head()"
      ],
      "execution_count": null,
      "outputs": []
    },
    {
      "cell_type": "code",
      "metadata": {
        "id": "apWAMaU22zzF"
      },
      "source": [
        "data.CustomerID.unique().shape"
      ],
      "execution_count": null,
      "outputs": []
    },
    {
      "cell_type": "markdown",
      "metadata": {
        "id": "skWrNSG22zzF"
      },
      "source": [
        "#### 2.4.Country"
      ]
    },
    {
      "cell_type": "code",
      "metadata": {
        "id": "WtjmShDR2zzF"
      },
      "source": [
        "data.Country.value_counts().head()"
      ],
      "execution_count": null,
      "outputs": []
    },
    {
      "cell_type": "markdown",
      "metadata": {
        "id": "jubakEXR2zzF"
      },
      "source": [
        "Так как более 90 % продаж сосредоточено в 1 стране, выделить полноценную аналитику по любой из других стран не выйдет (недостаточно данных). Корректным представляется сравнение продаж внутри страны и зарубежом (в целом)"
      ]
    },
    {
      "cell_type": "code",
      "metadata": {
        "id": "a8ZglghZ2zzG"
      },
      "source": [
        "data.loc[data.Country == 'United Kingdom', 'Sales_type']  = 'Domestic_sales'\n",
        "data.loc[data.Country != 'United Kingdom', 'Sales_type']  = 'Foreign_sales'\n",
        "data.Sales_type.value_counts()"
      ],
      "execution_count": null,
      "outputs": []
    },
    {
      "cell_type": "markdown",
      "metadata": {
        "id": "eg3HyArj2zzG"
      },
      "source": [
        "#### 2.5. Quantity"
      ]
    },
    {
      "cell_type": "code",
      "metadata": {
        "id": "JdqvZi6a2zzG"
      },
      "source": [
        "data.Quantity.describe()"
      ],
      "execution_count": null,
      "outputs": []
    },
    {
      "cell_type": "code",
      "metadata": {
        "id": "4iYIZ1Qx2zzH"
      },
      "source": [
        "data [data.Quantity == 0].shape  # =0\n",
        "data [data.Quantity  < 0].shape  # = 1083\n",
        "data [data.Quantity>2000].shape  # = 2\n",
        "\n",
        "data.Quantity.hist()"
      ],
      "execution_count": null,
      "outputs": []
    },
    {
      "cell_type": "code",
      "metadata": {
        "scrolled": true,
        "id": "IhDd8mlU2zzH"
      },
      "source": [
        "data [data.Quantity  < -500]\n",
        "# data [data.Quantity  > 1500]\n",
        "data [data.StockCode == 23005].Quantity.value_counts()"
      ],
      "execution_count": null,
      "outputs": []
    },
    {
      "cell_type": "markdown",
      "metadata": {
        "id": "-K5TPovv2zzH"
      },
      "source": [
        "Нет понимания, что делать с отрицательным количеством товара, которые никак логически не соотносятся ни с  количеством проданных товаров того же артикула по обной сделке, ни с общим количеством по артикулу за истории. Удалим записи с отрицательным количеством товара / до выяснения \n"
      ]
    },
    {
      "cell_type": "code",
      "metadata": {
        "id": "QiTcvUXE2zzH"
      },
      "source": [
        "data = data [data.Quantity  > 0]\n",
        "data.describe()"
      ],
      "execution_count": null,
      "outputs": []
    },
    {
      "cell_type": "markdown",
      "metadata": {
        "id": "TKnzBpCK2zzI"
      },
      "source": [
        "#### 2.6. UnitPrice"
      ]
    },
    {
      "cell_type": "code",
      "metadata": {
        "id": "26YFRWtU2zzI"
      },
      "source": [
        "data [(data.UnitPrice  == 0)].head()"
      ],
      "execution_count": null,
      "outputs": []
    },
    {
      "cell_type": "markdown",
      "metadata": {
        "id": "oOtzJeZI2zzI"
      },
      "source": [
        "похоже на несостоявшиеся сделки или брошенные корзины, доля наблюдений незначительно, исключим записи из датасета"
      ]
    },
    {
      "cell_type": "code",
      "metadata": {
        "id": "UfW843d52zzI"
      },
      "source": [
        "data = data [data.UnitPrice  > 0]"
      ],
      "execution_count": null,
      "outputs": []
    },
    {
      "cell_type": "markdown",
      "metadata": {
        "id": "XxjLKPSw2zzI"
      },
      "source": [
        "### 3. Традиционные маркетинговые метрики"
      ]
    },
    {
      "cell_type": "code",
      "metadata": {
        "id": "2elr6Hy92zzI"
      },
      "source": [
        "m_metrics = pd.pivot_table(data,\n",
        "                               index  = ['year_month'], \n",
        "                               values = ['InvoiceNo', 'StockCode', 'Quantity', \n",
        "                                         'CustomerID', 'InvSum'],\n",
        "                               aggfunc= {'CustomerID': pd.Series.nunique, \n",
        "                                         'InvoiceNo' : pd.Series.nunique, \n",
        "                                         'StockCode' : len, \n",
        "                                         'Quantity'  : np.mean, \n",
        "                                         'InvSum'    : np.sum})\n",
        "                                         \n",
        "m_metrics = m_metrics.iloc[:,[0,2,4,3,1]]\n",
        "m_metrics.columns = ['customers', 'invoices', 'stocks', 'quantity',  'summa']\n",
        "m_metrics.round(1)"
      ],
      "execution_count": null,
      "outputs": []
    },
    {
      "cell_type": "code",
      "metadata": {
        "id": "K3_JYYpj2zzJ"
      },
      "source": [
        "m_metrics['In_to_Cu']  = m_metrics['invoices'] / m_metrics['customers'] # Среднее кол-во заказов на Покупателя \n",
        "m_metrics['St_to_In']  = m_metrics['stocks']   / m_metrics['invoices']  # Среднее кол-во товаров в заказе\n",
        "m_metrics['Avg_price'] = m_metrics['summa']   /  m_metrics['quantity'] / m_metrics['stocks']  # Средняя цена товара\n",
        "m_metrics['Cast_sum']  = m_metrics['summa']   /  m_metrics['customers'] # Средняя сумма потраченная Покупателем \n",
        "m_metrics['Inv_sum']   = m_metrics['summa']   /  m_metrics['invoices']  # Средняя сумма заказа \n",
        "m_metrics.round(1)\n"
      ],
      "execution_count": null,
      "outputs": []
    },
    {
      "cell_type": "code",
      "metadata": {
        "id": "UZWPcPHw2zzJ"
      },
      "source": [
        "m_metrics.hist(figsize=(15,10), bins=30)\n",
        "plt.show()"
      ],
      "execution_count": null,
      "outputs": []
    },
    {
      "cell_type": "markdown",
      "metadata": {
        "id": "PMwl70cz2zzJ"
      },
      "source": [
        "### 4. Классификация продаж по ценовым категориям товаров"
      ]
    },
    {
      "cell_type": "code",
      "metadata": {
        "id": "s7DAjujYuTkp"
      },
      "source": [
        "group_up   = pd.cut(data['UnitPrice'],[0, 2, 5, 10, 20, 999999]) \n",
        "group_su   = pd.cut(data['InvSum'],   [0, 5, 10, 20, 40, 100, 200,999999]) \n",
        "\n",
        "PT_UnitPrice_Sum = pd.pivot_table( data, \n",
        "                                   values  =['InvSum'], \n",
        "                                   index   = group_up, \n",
        "                                   columns = group_su,\n",
        "                                   aggfunc = np.sum,\n",
        "                                   fill_value = 0) \n",
        "PT_UnitPrice_Sum.round(1)"
      ],
      "execution_count": null,
      "outputs": []
    },
    {
      "cell_type": "code",
      "metadata": {
        "id": "W1-YAZt_2zzK"
      },
      "source": [
        "data.loc[data.UnitPrice  < 1.5,                        'UnitPrice_Group'] = '1_minimum_price'\n",
        "data.loc[(data.UnitPrice >=1.5) &(data.UnitPrice < 2.5),'UnitPrice_Group'] = '2_low_price'\n",
        "data.loc[(data.UnitPrice >=2.5) & (data.UnitPrice < 5), 'UnitPrice_Group'] = '3_middle_price'\n",
        "data.loc[(data.UnitPrice >= 5) & (data.UnitPrice <10), 'UnitPrice_Group'] = '4_high_price'\n",
        "data.loc[(data.UnitPrice >=10),                        'UnitPrice_Group'] = '5_maximum_price'"
      ],
      "execution_count": null,
      "outputs": []
    },
    {
      "cell_type": "code",
      "metadata": {
        "id": "dEmttkE62zzK"
      },
      "source": [
        "data.UnitPrice_Group.hist()"
      ],
      "execution_count": null,
      "outputs": []
    },
    {
      "cell_type": "code",
      "metadata": {
        "id": "4WnrSodl2zzK"
      },
      "source": [
        "PT_UnitPrice_Sum = pd.pivot_table( data, \n",
        "                                   values  = ['InvSum'], \n",
        "                                   index   = ['UnitPrice_Group'], \n",
        "                                   columns = ['year', 'month'],\n",
        "                                   aggfunc = np.sum,\n",
        "                                   fill_value = 0,\n",
        "                                   margins=True) \n",
        "PT_UnitPrice_Sum_percentage = np.round(PT_UnitPrice_Sum*100/PT_UnitPrice_Sum.iloc[-1, -1], 1)\n",
        "PT_UnitPrice_Sum_percentage"
      ],
      "execution_count": null,
      "outputs": []
    },
    {
      "cell_type": "markdown",
      "metadata": {
        "id": "ytJbklbi2zzK"
      },
      "source": [
        "### 5.  История активности Покупателей\n",
        "\n"
      ]
    },
    {
      "cell_type": "code",
      "metadata": {
        "id": "vXKj_VwZ2zzK"
      },
      "source": [
        "data['LTV']    = np.nan         # Сумма покупок за срок жизни клиента / здесь и далее по разделу - до даты наблюдения\n",
        "data['LTCS']   = np.nan         # Количество покупок за срок жизни клиента - LifeTimeCountofSales\n",
        "data['LTP']    = np.nan         # Количество месяцев жизни клиента - LifeTimePeriod\n",
        "data['LTAOV']  = np.nan         # Средняя сумма покупки за срок  жизни клиента - LifeTimeAverageOrderValue\n",
        "data['LTAUP']  = np.nan         # Средняя цена 1 товара за срок  жизни клиента - LifeTimeAverageUnitPrice\n",
        "                                # медиана цен всех товаров, встретившихся в чеках (с учeтом \n",
        "                                # частоты встречаемости позиции в чеке, без учета доли в стоимости покупок)"
      ],
      "execution_count": null,
      "outputs": []
    },
    {
      "cell_type": "code",
      "metadata": {
        "id": "R7YRg68U2zzK"
      },
      "source": [
        "data = data.sort_values('InvoiceDate', ascending=[True])\n",
        "data = data.reset_index().drop(['index'], axis = 1)"
      ],
      "execution_count": null,
      "outputs": []
    },
    {
      "cell_type": "markdown",
      "metadata": {
        "id": "OIvkF32N2zzL"
      },
      "source": [
        "Расчет и классификация показателя LTV / Сумма всех покупок за срок жизни Покупателя"
      ]
    },
    {
      "cell_type": "code",
      "metadata": {
        "id": "zn3KRaaU2zzL"
      },
      "source": [
        "for i in range(0,len(data)):\n",
        "    data.iloc[i,15] = data.loc[ (data['CustomerID'] == data['CustomerID'][i])&    # LTV\n",
        "                                (data['year_month'] <= data['year_month'][i]), \n",
        "                                'InvSum'].sum()                              \n",
        "    \n",
        "data.loc[(data.LTV > 0)   & (data.LTV <= 100),'LTVg'] = '0-100$'\n",
        "data.loc[(data.LTV > 100) & (data.LTV <= 500),'LTVg'] = '100-500$'\n",
        "data.loc[data.LTV >  500                     ,'LTVg'] = '>500$'\n",
        "data.head()"
      ],
      "execution_count": null,
      "outputs": []
    },
    {
      "cell_type": "markdown",
      "metadata": {
        "id": "rnemK7WP2zzL"
      },
      "source": [
        "Расчет и классификация показателя LTCS / Количество покупок за срок жизни Покупателя"
      ]
    },
    {
      "cell_type": "code",
      "metadata": {
        "id": "2SOFs5hY2zzL"
      },
      "source": [
        "for i in range(0,len(data)):                            \n",
        "    \n",
        "    data.iloc[i,16] = data.loc[ (data['CustomerID'] == data['CustomerID'][i])&    # LTCS  \n",
        "                                (data['year_month'] <= data['year_month'][i]), \n",
        "                                'InvoiceNo'].unique().shape[0]"
      ],
      "execution_count": null,
      "outputs": []
    },
    {
      "cell_type": "markdown",
      "metadata": {
        "id": "ILQrRjMq2zzL"
      },
      "source": [
        "Классификация показателя LTP / Срок жизни (активности) Покупателя в месяцах"
      ]
    },
    {
      "cell_type": "code",
      "metadata": {
        "id": "lFbwR2Kq2zzL"
      },
      "source": [
        "for i in range(0,len(data)):\n",
        "    data.iloc[i,17] = data.loc[ (data['CustomerID'] == data['CustomerID'][i])&    # LTP\n",
        "                                (data['year_month'] <= data['year_month'][i]), \n",
        "                                'year_month'].unique().shape[0]\n",
        "\n",
        "data.loc[ data.LTP == 0,    'LTPg'] = '0'\n",
        "data.loc[(data.LTP == 1),   'LTPg'] = '1_m'\n",
        "data.loc[(data.LTP <  4)&\n",
        "         (data.LTP >  1),   'LTPg'] = '2-3_m'\n",
        "data.loc[(data.LTP >  3),   'LTPg'] = '4+_m'\n",
        "data['LTPg'].value_counts()"
      ],
      "execution_count": null,
      "outputs": []
    },
    {
      "cell_type": "markdown",
      "metadata": {
        "id": "eivQZsJE2zzM"
      },
      "source": [
        "Расчет / классификация показателя LTAOV / Средняя сумма покупки за срок жизни Покупателя"
      ]
    },
    {
      "cell_type": "code",
      "metadata": {
        "id": "hPI-yf6o2zzM"
      },
      "source": [
        "data.loc[data['LTCS']  != 0, 'LTAOV'] = data['LTV']/data['LTCS']\n",
        "\n",
        "data.loc[(data['LTCS'] != 0)&(data['LTAOV'] <20),                    'LTAOVg'] = '0-20$'\n",
        "data.loc[(data['LTCS'] != 0)&(data['LTAOV'] >50),                    'LTAOVg'] = '50+ $'\n",
        "data.loc[(data['LTCS'] != 0)&(data['LTAOV'] >20)&(data['LTAOV']<50), 'LTAOVg'] = '20-50$'\n",
        "        \n",
        "data['LTAOVg'].fillna('0$', inplace = True) \n",
        "\n",
        "PT_ASB = pd.pivot_table(data, \n",
        "                        values  = ['InvSum'], \n",
        "                        index   = ['LTAOVg'], \n",
        "                        columns = ['year', 'month'],\n",
        "                        aggfunc = np.sum,\n",
        "                        fill_value = 0,\n",
        "                        margins=True) \n",
        "PT_ASB_percentage = np.round(PT_ASB*100/PT_ASB.iloc[-1, -1], 1)\n",
        "PT_ASB_percentage"
      ],
      "execution_count": null,
      "outputs": []
    },
    {
      "cell_type": "markdown",
      "metadata": {
        "id": "uMS_hjjT2zzM"
      },
      "source": [
        "Расчет / классификация показателя LTAUP / Средняя (наиболее характерная) цена товара за срок жизни Покупателя"
      ]
    },
    {
      "cell_type": "code",
      "metadata": {
        "id": "J1bUH2L52zzM"
      },
      "source": [
        "for i in range(0,len(data)):\n",
        "    data.iloc[i,19] = data.loc[ (data['CustomerID'] == data['CustomerID'][i])&    # LTP\n",
        "                                (data['year_month'] <= data['year_month'][i]), \n",
        "                                'UnitPrice'].median()\n"
      ],
      "execution_count": null,
      "outputs": []
    },
    {
      "cell_type": "code",
      "metadata": {
        "id": "3JMdEao12zzM"
      },
      "source": [
        "data.fillna(0, inplace = True) "
      ],
      "execution_count": null,
      "outputs": []
    },
    {
      "cell_type": "code",
      "metadata": {
        "id": "3wcedg-72zzO"
      },
      "source": [
        "def classify_unit_price (x):   \n",
        "    z='0'\n",
        "    if x > 0:\n",
        "        z = '< 1$'\n",
        "        if x > 1:\n",
        "            z = '1-2$'\n",
        "            if x > 2:\n",
        "                z = '>2$'\n",
        "    return z\n",
        "\n",
        "data['LTAUPg'] = data['LTAUP'].astype(int).apply(classify_unit_price) \n",
        "data['LTAUPg'].value_counts()"
      ],
      "execution_count": null,
      "outputs": []
    },
    {
      "cell_type": "markdown",
      "metadata": {
        "id": "7W0s2nti2zzO"
      },
      "source": [
        "### 6. Показатели покупок в  текущем месяце / месяце покупки"
      ]
    },
    {
      "cell_type": "markdown",
      "metadata": {
        "id": "z2rXBFyj2zzO"
      },
      "source": [
        "####  Сумма покупок за последний / текущий месяц"
      ]
    },
    {
      "cell_type": "code",
      "metadata": {
        "id": "uHbT7xEp2zzO"
      },
      "source": [
        "data['LMTV'] = np.nan       # Last month time value - сумма покупок за последний месяц наблюдений\n",
        "data['LMTVg'] = np.nan      # LMTV сгруппированные значения"
      ],
      "execution_count": null,
      "outputs": []
    },
    {
      "cell_type": "code",
      "metadata": {
        "id": "U5VZNpRY2zzO"
      },
      "source": [
        "def classify_sum (x):\n",
        "    z = 'no_sales'\n",
        "    if x.InvSum.sum() > 0:\n",
        "        z = '<50$'\n",
        "        if x.InvSum.sum() > 50:\n",
        "            z = '50-150$'\n",
        "            if x.InvSum.sum() > 150:\n",
        "                z = '>150$'\n",
        "    return z\n",
        "    \n",
        "classify_rate_1 = data.groupby(['CustomerID', 'year_month']).apply(classify_sum)\n",
        "classify_rate_2 = data.groupby(['CustomerID', 'year_month']).InvSum.sum()"
      ],
      "execution_count": null,
      "outputs": []
    },
    {
      "cell_type": "code",
      "metadata": {
        "id": "Rkv0__R42zzO"
      },
      "source": [
        "data['LMTV'] = np.nan\n",
        "data['LMTVg'] = np.nan\n",
        "\n",
        "for i in range(len(data)):\n",
        "    data.iloc[i,25]  = classify_rate_1[data.iloc[i,5], data.iloc[i,1]]\n",
        "    data.iloc[i,24]  = classify_rate_2[data.iloc[i,5], data.iloc[i,1]].round(1)\n",
        "    \n",
        "data['LMTVg'].value_counts()"
      ],
      "execution_count": null,
      "outputs": []
    },
    {
      "cell_type": "markdown",
      "metadata": {
        "id": "MQLh2RDy2zzP"
      },
      "source": [
        "####  Первая покупка на сайте (да/нет)"
      ]
    },
    {
      "cell_type": "code",
      "metadata": {
        "id": "u30FWeXi2zzP"
      },
      "source": [
        "data['First_sale'] = np.nan\n",
        "\n",
        "for i in range(len(data)):\n",
        "    if data.iloc[i,17]  == 1:\n",
        "        if data.loc[(data['CustomerID'] == data['CustomerID'][i])& \n",
        "                    (data['year_month'] == data['year_month'][i]),\n",
        "                    'InvSum'].sum() > 0:\n",
        "            data.iloc[i,26] = 1\n",
        "    else:\n",
        "        data.iloc[i,26] = 0\n",
        "    \n",
        "data['First_sale'].value_counts()"
      ],
      "execution_count": null,
      "outputs": []
    },
    {
      "cell_type": "markdown",
      "metadata": {
        "id": "yB8Kf2vM2zzP"
      },
      "source": [
        "### 7. Метрики ушедших покупателей"
      ]
    },
    {
      "cell_type": "markdown",
      "metadata": {
        "id": "_x3HAO8g2zzP"
      },
      "source": [
        "По состоянию на каждую дату, определим состав покупателей, которые прекратили совершать покупки по следующему алгоритму:\n",
        "- определим в каких месяцах / периодах каждый из покупателей совершал покупки (сумма покупок >0) / Customer_sales_month;\n",
        "- для каждого покупателя на каждый месяц определим значения:\n",
        "а) если покупки были - присвоим '0' - клиент за месяц был активен / не уходил;\n",
        "б) если покупок за месяц не было - присвоим значение количества месяцев,  прошедших с последней покупки до месяца наблюдения; / Customer_rate_month\n",
        "- из полученных данных сформируем df в формате :  CustomerID/Месяц наблюдения/Месяц последней покупки/срок ... Покупателей прекративших активность более 3 месяцев назад исключаем из выборки, как (условно) не подлежащих возврату / Customers_away\n",
        "- merge Customers_away и LifeTime показателями основного датасета и получаем базу для аналитики состава Покупателей, утративших лояльность, которая ляжет в основу Дашборда "
      ]
    },
    {
      "cell_type": "code",
      "metadata": {
        "id": "aGRsX4vquz3m"
      },
      "source": [
        "Customer_sales_month = pd.pivot_table(data,\n",
        "                       columns  = ['year_month'], \n",
        "                       index    = ['CustomerID'],\n",
        "                       values   = ['InvSum'],\n",
        "                       aggfunc  = 'sum',\n",
        "                       fill_value = 0)\n",
        "\n",
        "Customer_sales_month.tail()"
      ],
      "execution_count": null,
      "outputs": []
    },
    {
      "cell_type": "code",
      "metadata": {
        "id": "q5BlUNlju4vS"
      },
      "source": [
        "Customer_rate_month = pd.DataFrame(data = np.zeros((len(Customer_sales_month),len(Customer_sales_month.columns))))\n",
        "\n",
        "periods  = ['2010-12', '2011-01','2011-02', '2011-03', '2011-04', '2011-05', \n",
        "            '2011-06', '2011-07', '2011-08', '2011-09', '2011-10', '2011-11']\n",
        "\n",
        "Customer_rate_month.columns  = periods\n",
        "\n",
        "z = 0\n",
        "for i in range(0,len(Customer_sales_month.columns)): \n",
        "    for j in range (0,len(Customer_sales_month)): \n",
        "        if Customer_sales_month.iloc[j,i] > 0 or i ==0:\n",
        "            z = 0            \n",
        "        elif Customer_sales_month.iloc[j,i] ==0 and i >0:\n",
        "            z = 1\n",
        "            if Customer_sales_month.iloc[j,i-1] ==0 and i >1:\n",
        "                z = 2\n",
        "                if Customer_sales_month.iloc[j,i-2] ==0 and i >2:\n",
        "                    z = 3\n",
        "                    if Customer_sales_month.iloc[j,i-3] ==0 and i >3:\n",
        "                        z = 4                                \n",
        "        Customer_rate_month.iloc[j,i] = z     \n",
        "        \n",
        "Customer_rate_month.index = Customer_sales_month.index\n",
        "Customer_rate_month.tail()"
      ],
      "execution_count": null,
      "outputs": []
    },
    {
      "cell_type": "code",
      "metadata": {
        "id": "yBx0sj4o2zzQ"
      },
      "source": [
        "Customers_away         = Customer_rate_month.iloc[:,[0]].reset_index().astype(int)\n",
        "Customers_away.columns = ['CustomerID', 'months_away']\n",
        "Customers_away['year_month']= '2010-12'\n",
        "Customers_away['new_col']= 0\n",
        "\n",
        "for i in range (1,12):\n",
        "    z = Customer_rate_month.iloc[:,[i]].reset_index()\n",
        "    z.columns = ['CustomerID', 'months_away']  \n",
        "    z['year_month']= Customer_rate_month.columns[i]\n",
        "    z['new_col']= i - z['months_away']\n",
        "    Customers_away = pd.concat([Customers_away, z]) \n",
        "\n",
        "Customers_away.months_away = Customers_away.months_away.astype(int).round(0)\n",
        "Customers_away.months_away.value_counts()"
      ],
      "execution_count": null,
      "outputs": []
    },
    {
      "cell_type": "code",
      "metadata": {
        "id": "gNTxwNoK2zzR"
      },
      "source": [
        "Customers_away = Customers_away.reset_index().drop(['index'], axis = 1)\n",
        "Customers_away = Customers_away.sort_values(['CustomerID', 'year_month'], ascending= True)\n",
        "Customers_away['new_col'] = Customers_away['new_col'].astype(int)\n",
        "Customers_away.tail(6)"
      ],
      "execution_count": null,
      "outputs": []
    },
    {
      "cell_type": "code",
      "metadata": {
        "id": "nn9XomHx2zzR"
      },
      "source": [
        "def classify_p (x):\n",
        "    return periods[x]\n",
        "Customers_away['New_year_month']= Customers_away.new_col.apply(classify_p)\n",
        "Customers_away.tail()"
      ],
      "execution_count": null,
      "outputs": []
    },
    {
      "cell_type": "code",
      "metadata": {
        "id": "XaiIV8452zzR"
      },
      "source": [
        "data_away = data.iloc[:,[1,5,12,13,16,17,18,19,20,21,22,23,24,25,26]].fillna(0)\n",
        "data_away.head(1)"
      ],
      "execution_count": null,
      "outputs": []
    },
    {
      "cell_type": "code",
      "metadata": {
        "id": "HE3m8ba52zzR"
      },
      "source": [
        "Customers_away_info = Customers_away.merge(  data_away, \n",
        "                                             how = 'left', \n",
        "                                             left_on =['CustomerID','New_year_month'], \n",
        "                                             right_on=['CustomerID','year_month'])\n",
        "\n",
        "Customers_away_info = Customers_away_info.drop_duplicates()\n",
        "Customers_away_info.tail()"
      ],
      "execution_count": null,
      "outputs": []
    },
    {
      "cell_type": "code",
      "metadata": {
        "id": "gBcvGqxo2zzR"
      },
      "source": [
        "Customers_away_info = Customers_away_info.iloc[:,[0,1,2,4,6,7,8,9,10,11,12,13,14,15,16,17,18]]"
      ],
      "execution_count": null,
      "outputs": []
    },
    {
      "cell_type": "code",
      "metadata": {
        "id": "CV7qVNq12zzR"
      },
      "source": [
        "Customers_away_info.rename(columns={'year_month_x': 'month_look', 'New_year_month': 'month_l_sale'}, inplace=True)"
      ],
      "execution_count": null,
      "outputs": []
    },
    {
      "cell_type": "code",
      "metadata": {
        "id": "Ro02pLW82zzS"
      },
      "source": [
        "Customers_away_info_filtered = Customers_away_info [(Customers_away_info.months_away  >  0)&\n",
        "                                                    (Customers_away_info.months_away  <  4)&\n",
        "                                                    (Customers_away_info.Customer_reg >= 0)&\n",
        "                                                    (Customers_away_info.LMTV         > 0)\n",
        "                                                    \n",
        "                                                 ]\n",
        "Customers_away_info_filtered.head()"
      ],
      "execution_count": null,
      "outputs": []
    },
    {
      "cell_type": "code",
      "metadata": {
        "id": "ypYhKHcF2zzS"
      },
      "source": [
        "Customers_away_info_filtered_1 = Customers_away_info_filtered [Customers_away_info.months_away  ==1]\n",
        "Customers_away_info_filtered_1.shape"
      ],
      "execution_count": null,
      "outputs": []
    },
    {
      "cell_type": "code",
      "metadata": {
        "id": "hRuhuSD02zzS"
      },
      "source": [
        "full_metrics = m_metrics.iloc[:,[0,4]]\n",
        "\n",
        "away_metrics = Customers_away_info_filtered[\n",
        "               Customers_away_info_filtered.months_away==1].iloc[:,[0,1,2,14]\n",
        "              ].groupby(['month_look'])['months_away','LMTV'].sum()\n",
        "\n",
        "basic_table  =  full_metrics.merge(away_metrics,\n",
        "                                   how = 'left', \n",
        "                                   left_on =['year_month'], \n",
        "                                   right_on=away_metrics.index)\n",
        "basic_table.columns = ['Period', 'Customers', 'Sales_gross', 'Customers_away', 'Sales_customers_away']\n",
        "basic_table['Customers_away_%'] = 100*basic_table['Customers_away'] / basic_table['Customers']\n",
        "basic_table['Sales_away_%']     = 100*basic_table['Sales_customers_away'] / basic_table['Sales_gross']\n",
        "bt1 = basic_table.set_index('Period').iloc[1:].round(1)\n",
        "bt2 = bt1.iloc[:,2:]\n",
        "bt2"
      ],
      "execution_count": null,
      "outputs": []
    },
    {
      "cell_type": "code",
      "metadata": {
        "id": "HdLXGq3l2zzS"
      },
      "source": [
        "writer = pd.ExcelWriter('DS LC.xlsx', engine='xlsxwriter')\n",
        "   \n",
        "data.to_excel(                          writer, 'dataset')\n",
        "m_metrics.to_excel(                     writer, 'm_metrics')\n",
        "Customers_away_info_filtered.to_excel(  writer, 'Lost_customers')\n",
        "Customers_away_info_filtered_1.to_excel(writer, 'Lost_customers_filt')\n",
        "bt1.to_excel(                           writer, 'bt1')\n",
        "bt2.to_excel(                           writer, 'bt2')\n",
        "writer.save()"
      ],
      "execution_count": null,
      "outputs": []
    },
    {
      "cell_type": "code",
      "metadata": {
        "id": "G987xuQX2zzS"
      },
      "source": [
        ""
      ],
      "execution_count": null,
      "outputs": []
    }
  ]
}